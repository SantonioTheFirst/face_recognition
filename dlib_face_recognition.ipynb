{
  "nbformat": 4,
  "nbformat_minor": 0,
  "metadata": {
    "colab": {
      "name": "dlib_face_recognition",
      "provenance": [],
      "collapsed_sections": [],
      "authorship_tag": "ABX9TyONEPDwJtKtwVw659r4KuJy",
      "include_colab_link": true
    },
    "kernelspec": {
      "name": "python3",
      "display_name": "Python 3"
    },
    "language_info": {
      "name": "python"
    },
    "accelerator": "GPU"
  },
  "cells": [
    {
      "cell_type": "markdown",
      "metadata": {
        "id": "view-in-github",
        "colab_type": "text"
      },
      "source": [
        "<a href=\"https://colab.research.google.com/github/SantonioTheFirst/face_recognition/blob/main/dlib_face_recognition.ipynb\" target=\"_parent\"><img src=\"https://colab.research.google.com/assets/colab-badge.svg\" alt=\"Open In Colab\"/></a>"
      ]
    },
    {
      "cell_type": "code",
      "execution_count": null,
      "metadata": {
        "colab": {
          "base_uri": "https://localhost:8080/"
        },
        "id": "vcASJ9RQzFq9",
        "outputId": "91347031-794c-40cf-b513-15cd5b476b5e"
      },
      "outputs": [
        {
          "output_type": "stream",
          "name": "stdout",
          "text": [
            "Requirement already satisfied: dlib in /usr/local/lib/python3.7/dist-packages (19.18.0)\n"
          ]
        }
      ],
      "source": [
        "!pip install dlib"
      ]
    },
    {
      "cell_type": "code",
      "source": [
        "import dlib\n",
        "from PIL import Image\n",
        "import numpy as np"
      ],
      "metadata": {
        "id": "IWNW2YNW8AkM"
      },
      "execution_count": null,
      "outputs": []
    },
    {
      "cell_type": "code",
      "source": [
        "!wget http://dlib.net/files/shape_predictor_68_face_landmarks.dat.bz2\n",
        "!wget http://dlib.net/files/dlib_face_recognition_resnet_model_v1.dat.bz2\n",
        "!bzip2 -d shape_predictor_68_face_landmarks.dat.bz2\n",
        "!bzip2 -d dlib_face_recognition_resnet_model_v1.dat.bz2"
      ],
      "metadata": {
        "id": "R8J-l4ff8DBg",
        "colab": {
          "base_uri": "https://localhost:8080/"
        },
        "outputId": "7dc72cd6-41e4-4079-c0de-059f2c204fbd"
      },
      "execution_count": null,
      "outputs": [
        {
          "output_type": "stream",
          "name": "stdout",
          "text": [
            "--2022-01-20 14:09:52--  http://dlib.net/files/shape_predictor_68_face_landmarks.dat.bz2\n",
            "Resolving dlib.net (dlib.net)... 107.180.26.78\n",
            "Connecting to dlib.net (dlib.net)|107.180.26.78|:80... connected.\n",
            "HTTP request sent, awaiting response... 200 OK\n",
            "Length: 64040097 (61M)\n",
            "Saving to: ‘shape_predictor_68_face_landmarks.dat.bz2’\n",
            "\n",
            "shape_predictor_68_ 100%[===================>]  61.07M  29.9MB/s    in 2.0s    \n",
            "\n",
            "2022-01-20 14:09:54 (29.9 MB/s) - ‘shape_predictor_68_face_landmarks.dat.bz2’ saved [64040097/64040097]\n",
            "\n",
            "--2022-01-20 14:09:54--  http://dlib.net/files/dlib_face_recognition_resnet_model_v1.dat.bz2\n",
            "Resolving dlib.net (dlib.net)... 107.180.26.78\n",
            "Connecting to dlib.net (dlib.net)|107.180.26.78|:80... connected.\n",
            "HTTP request sent, awaiting response... 200 OK\n",
            "Length: 21428389 (20M)\n",
            "Saving to: ‘dlib_face_recognition_resnet_model_v1.dat.bz2’\n",
            "\n",
            "dlib_face_recogniti 100%[===================>]  20.44M  14.7MB/s    in 1.4s    \n",
            "\n",
            "2022-01-20 14:09:56 (14.7 MB/s) - ‘dlib_face_recognition_resnet_model_v1.dat.bz2’ saved [21428389/21428389]\n",
            "\n"
          ]
        }
      ]
    },
    {
      "cell_type": "code",
      "source": [
        "sp = dlib.shape_predictor('shape_predictor_68_face_landmarks.dat')\n",
        "facerec = dlib.face_recognition_model_v1('dlib_face_recognition_resnet_model_v1.dat')\n",
        "detector = dlib.get_frontal_face_detector()"
      ],
      "metadata": {
        "id": "EtpHfkHTgJsD"
      },
      "execution_count": null,
      "outputs": []
    },
    {
      "cell_type": "code",
      "source": [
        "!wget https://mahagon-events.ru/wp-content/uploads/2018/06/alla-pugacheva.jpg -O im1.jpg\n",
        "!wget http://showbizdaily.ru/wp-content/uploads/2013/04/pugacheva1.jpg -O im2.jpg"
      ],
      "metadata": {
        "colab": {
          "base_uri": "https://localhost:8080/"
        },
        "id": "dgcu57VGhBOP",
        "outputId": "8ba63ab5-fcfc-4173-9abb-f20fb20067c5"
      },
      "execution_count": null,
      "outputs": [
        {
          "output_type": "stream",
          "name": "stdout",
          "text": [
            "--2022-01-20 14:10:07--  https://mahagon-events.ru/wp-content/uploads/2018/06/alla-pugacheva.jpg\n",
            "Resolving mahagon-events.ru (mahagon-events.ru)... 31.31.198.250\n",
            "Connecting to mahagon-events.ru (mahagon-events.ru)|31.31.198.250|:443... connected.\n",
            "HTTP request sent, awaiting response... 200 OK\n",
            "Length: 292633 (286K) [image/jpeg]\n",
            "Saving to: ‘im1.jpg’\n",
            "\n",
            "im1.jpg             100%[===================>] 285.77K   845KB/s    in 0.3s    \n",
            "\n",
            "2022-01-20 14:10:08 (845 KB/s) - ‘im1.jpg’ saved [292633/292633]\n",
            "\n",
            "--2022-01-20 14:10:08--  http://showbizdaily.ru/wp-content/uploads/2013/04/pugacheva1.jpg\n",
            "Resolving showbizdaily.ru (showbizdaily.ru)... 46.4.32.132\n",
            "Connecting to showbizdaily.ru (showbizdaily.ru)|46.4.32.132|:80... connected.\n",
            "HTTP request sent, awaiting response... 200 OK\n",
            "Length: 92392 (90K) [image/jpeg]\n",
            "Saving to: ‘im2.jpg’\n",
            "\n",
            "im2.jpg             100%[===================>]  90.23K   249KB/s    in 0.4s    \n",
            "\n",
            "2022-01-20 14:10:08 (249 KB/s) - ‘im2.jpg’ saved [92392/92392]\n",
            "\n"
          ]
        }
      ]
    },
    {
      "cell_type": "code",
      "source": [
        "threshold = 0.6"
      ],
      "metadata": {
        "id": "j-rqs8iLqeZa"
      },
      "execution_count": null,
      "outputs": []
    },
    {
      "cell_type": "code",
      "source": [
        "im1 = np.asarray(Image.open('im1.jpg'))\n",
        "im2 = np.asarray(Image.open('im2_2.jpg'))"
      ],
      "metadata": {
        "id": "pBGcYHb_iIoU"
      },
      "execution_count": null,
      "outputs": []
    },
    {
      "cell_type": "code",
      "source": [
        "def get_shape(im):\n",
        "    dets = detector(im, 1)\n",
        "    for k, d in enumerate(dets):\n",
        "        shape = sp(im, d)\n",
        "    return shape"
      ],
      "metadata": {
        "id": "OZ_3oMA2okWk"
      },
      "execution_count": null,
      "outputs": []
    },
    {
      "cell_type": "code",
      "source": [
        "def get_descriptor(im, shape):\n",
        "    return facerec.compute_face_descriptor(im, shape)"
      ],
      "metadata": {
        "id": "It-O4ZK1o4Zw"
      },
      "execution_count": null,
      "outputs": []
    },
    {
      "cell_type": "code",
      "source": [
        "def recognize(im1, im2):\n",
        "    shape_1 = get_shape(im1)\n",
        "    shape_2 = get_shape(im2)\n",
        "    desc_1 = get_descriptor(im1, shape_1)\n",
        "    desc_2 = get_descriptor(im2, shape_2)\n",
        "\n",
        "    return np.linalg.norm(np.asarray(desc_1) - np.asarray(desc_2)) <= threshold"
      ],
      "metadata": {
        "id": "NSAfuy3Tocvy"
      },
      "execution_count": null,
      "outputs": []
    },
    {
      "cell_type": "code",
      "source": [
        "def get_result(result):\n",
        "    if result:\n",
        "        return 'Identical faces'\n",
        "    else:\n",
        "        return 'Different faces'"
      ],
      "metadata": {
        "id": "W1tyCBL5qtm2"
      },
      "execution_count": null,
      "outputs": []
    },
    {
      "cell_type": "code",
      "source": [
        "get_result(recognize(im1, im2))"
      ],
      "metadata": {
        "colab": {
          "base_uri": "https://localhost:8080/",
          "height": 35
        },
        "id": "O-E0rk2-iclV",
        "outputId": "9407a28e-95cf-45a5-b81e-2ed7578cd399"
      },
      "execution_count": null,
      "outputs": [
        {
          "output_type": "execute_result",
          "data": {
            "application/vnd.google.colaboratory.intrinsic+json": {
              "type": "string"
            },
            "text/plain": [
              "'Identical faces'"
            ]
          },
          "metadata": {},
          "execution_count": 11
        }
      ]
    }
  ]
}